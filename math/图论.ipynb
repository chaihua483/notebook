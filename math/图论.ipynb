{
 "cells": [
  {
   "cell_type": "markdown",
   "metadata": {},
   "source": [
    "# 最小生成树\n"
   ]
  },
  {
   "cell_type": "code",
   "execution_count": 2,
   "metadata": {
    "collapsed": false
   },
   "outputs": [
    {
     "data": {
      "text/html": [
       "<div style=\"max-height:1000px;max-width:1500px;overflow:auto;\">\n",
       "<table border=\"1\" class=\"dataframe\">\n",
       "  <thead>\n",
       "    <tr style=\"text-align: right;\">\n",
       "      <th></th>\n",
       "      <th>1</th>\n",
       "      <th>2</th>\n",
       "      <th>3</th>\n",
       "      <th>4</th>\n",
       "      <th>5</th>\n",
       "    </tr>\n",
       "  </thead>\n",
       "  <tbody>\n",
       "    <tr>\n",
       "      <th>1</th>\n",
       "      <td>0</td>\n",
       "      <td>2</td>\n",
       "      <td>12</td>\n",
       "      <td>10</td>\n",
       "      <td>0</td>\n",
       "    </tr>\n",
       "    <tr>\n",
       "      <th>2</th>\n",
       "      <td>2</td>\n",
       "      <td>0</td>\n",
       "      <td>8</td>\n",
       "      <td>0</td>\n",
       "      <td>9</td>\n",
       "    </tr>\n",
       "    <tr>\n",
       "      <th>3</th>\n",
       "      <td>12</td>\n",
       "      <td>8</td>\n",
       "      <td>0</td>\n",
       "      <td>6</td>\n",
       "      <td>3</td>\n",
       "    </tr>\n",
       "    <tr>\n",
       "      <th>4</th>\n",
       "      <td>10</td>\n",
       "      <td>0</td>\n",
       "      <td>6</td>\n",
       "      <td>0</td>\n",
       "      <td>7</td>\n",
       "    </tr>\n",
       "    <tr>\n",
       "      <th>5</th>\n",
       "      <td>0</td>\n",
       "      <td>9</td>\n",
       "      <td>3</td>\n",
       "      <td>7</td>\n",
       "      <td>0</td>\n",
       "    </tr>\n",
       "  </tbody>\n",
       "</table>\n",
       "</div>"
      ],
      "text/plain": [
       "    1  2   3   4  5\n",
       "1   0  2  12  10  0\n",
       "2   2  0   8   0  9\n",
       "3  12  8   0   6  3\n",
       "4  10  0   6   0  7\n",
       "5   0  9   3   7  0"
      ]
     },
     "execution_count": 2,
     "metadata": {},
     "output_type": "execute_result"
    }
   ],
   "source": [
    "# read data\n",
    "point_num = 5\n",
    "dist_origin = [\n",
    "    (1,2,2),\n",
    "    (1,3,12),\n",
    "    (2,3,8),\n",
    "    (1,4,10),\n",
    "    (3,4,6),\n",
    "    (2,5,9),\n",
    "    (3,5,3),\n",
    "    (4,5,7)\n",
    "]\n",
    "\n",
    "# 转为 pandas\n",
    "import pandas as pd\n",
    "import numpy as np\n",
    "dist = pd.DataFrame(np.zeros([point_num, point_num]), index=xrange(1,6), columns=xrange(1,6))\n",
    "for d in dist_origin:\n",
    "    dist.loc[d[0], d[1]] = dist.loc[d[1], d[0]] = d[2]\n",
    "dist"
   ]
  },
  {
   "cell_type": "markdown",
   "metadata": {},
   "source": [
    "\n",
    "### **prim**\n",
    "\n",
    "> 反证法证明：A（已加入的点）和B（未加入的点）构成两个集合，中间形成了割，选择最小割的原因在于，如果选择较大割，用最小割替代，不会影响其连通性。"
   ]
  },
  {
   "cell_type": "code",
   "execution_count": 3,
   "metadata": {
    "collapsed": false
   },
   "outputs": [
    {
     "name": "stdout",
     "output_type": "stream",
     "text": [
      "19.0\n"
     ]
    },
    {
     "data": {
      "text/plain": [
       "{(1, 2), (2, 3), (3, 4), (3, 5)}"
      ]
     },
     "execution_count": 3,
     "metadata": {},
     "output_type": "execute_result"
    }
   ],
   "source": [
    "# prim 算法: \n",
    "import copy\n",
    "def prim(dist_matrix, point_num=None, start=None, nan=1000):\n",
    "    dist = copy.deepcopy(dist_matrix)\n",
    "    if not point_num:\n",
    "        point_num = dist.shape[0]\n",
    "    dist = dist.replace(0, nan)\n",
    "    # 初始顶点集合\n",
    "    S = set()\n",
    "    # 初始边集合\n",
    "    TE = set()\n",
    "    # 任意选取顶点作为开始\n",
    "    if not start:\n",
    "        start = dist.index[0]\n",
    "    # 该顶点加入顶点集\n",
    "    S.add(start)\n",
    "    # 循环进行，如果边集合数目小于n-1\n",
    "    # print dist\n",
    "    cost = 0\n",
    "    while(len(TE) < point_num - 1):\n",
    "        # 选取X属于S,Y不属于S的最小的一条边\n",
    "        mask = dist.loc[dist.index.isin(S), dist.columns.isin(set(dist.index)-S)]\n",
    "        # print mask\n",
    "        min_i = mask.min(axis=1).idxmin(axis=0)\n",
    "        min_j = mask.idxmin(axis=1).loc[min_i]\n",
    "        # print min_i, min_j\n",
    "        S.add(min_j)\n",
    "        TE.add((min_i,min_j))\n",
    "        cost += mask.loc[min_i, min_j]\n",
    "    return TE, cost\n",
    "        \n",
    "min_tree, cost = prim(dist)\n",
    "print cost\n",
    "min_tree"
   ]
  },
  {
   "cell_type": "markdown",
   "metadata": {},
   "source": [
    "### **Kruskal**"
   ]
  },
  {
   "cell_type": "code",
   "execution_count": 4,
   "metadata": {
    "collapsed": false
   },
   "outputs": [
    {
     "ename": "SyntaxError",
     "evalue": "invalid syntax (<ipython-input-4-906c6f1f0655>, line 16)",
     "output_type": "error",
     "traceback": [
      "\u001b[1;36m  File \u001b[1;32m\"<ipython-input-4-906c6f1f0655>\"\u001b[1;36m, line \u001b[1;32m16\u001b[0m\n\u001b[1;33m    if set(d[0:1]).issubset(s)\u001b[0m\n\u001b[1;37m                              ^\u001b[0m\n\u001b[1;31mSyntaxError\u001b[0m\u001b[1;31m:\u001b[0m invalid syntax\n"
     ]
    }
   ],
   "source": [
    "# kruskal 算法: \n",
    "import copy\n",
    "def kruskal(dist_origin, point_num=None, start=None, nan=1000):\n",
    "    dist = copy.deepcopy(dist_origin)\n",
    "    index = set([d[0] for d in dist]+[d[1] for d in dist])\n",
    "    if not point_num:\n",
    "        point_num = len(index)\n",
    "    print point_num\n",
    "    TE = set()\n",
    "    SETS = [set([p]) for p in index]\n",
    "    # 排序\n",
    "    dist.sort(key=lambda k:k[2])\n",
    "    print dist\n",
    "    for d in dist:\n",
    "        for s in SETS:\n",
    "            if set(d[0:1]).issubset(s)\n",
    "    \n",
    "kruskal(dist_origin)"
   ]
  },
  {
   "cell_type": "code",
   "execution_count": null,
   "metadata": {
    "collapsed": false
   },
   "outputs": [],
   "source": [
    "x = set([1,2,3])\n",
    "x.issubset(set([1,2,3,4,5]))"
   ]
  },
  {
   "cell_type": "code",
   "execution_count": null,
   "metadata": {
    "collapsed": false
   },
   "outputs": [],
   "source": []
  }
 ],
 "metadata": {
  "kernelspec": {
   "display_name": "Python 2",
   "language": "python",
   "name": "python2"
  },
  "language_info": {
   "codemirror_mode": {
    "name": "ipython",
    "version": 2
   },
   "file_extension": ".py",
   "mimetype": "text/x-python",
   "name": "python",
   "nbconvert_exporter": "python",
   "pygments_lexer": "ipython2",
   "version": "2.7.9"
  }
 },
 "nbformat": 4,
 "nbformat_minor": 0
}
