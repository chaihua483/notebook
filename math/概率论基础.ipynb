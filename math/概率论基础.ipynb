{
 "metadata": {
  "signature": "sha256:f5cfa3e44554a003961ed4f7fddfe9210d18fa42c1953569710f46ac6aef8200"
 },
 "nbformat": 3,
 "nbformat_minor": 0,
 "worksheets": [
  {
   "cells": [
    {
     "cell_type": "markdown",
     "id": "E1BAE426DCCD45EC809C5C5B85BE79CB",
     "metadata": {},
     "source": [
      "> ### \u671f\u671b\n",
      "$ E(X) = \\sum_{x}{xp(x)}$\n",
      "> ### \u65b9\u5dee\n",
      "$ Var(X) = E((X-E(X))^2) = E(X^2)-E(X)^2 $\n",
      "> ### \u6b63\u6001\u51fd\u6570\n",
      "$ n(x; \\mu, \\sigma) = \\frac{1}{\\sqrt{2\\pi}\\sigma}e^{-(x-\\mu)^2/(2\\sigma^2)} $"
     ]
    },
    {
     "cell_type": "markdown",
     "id": "FCDC22D9524F40BD81EE5943A2A5CC82",
     "metadata": {},
     "source": [
      "### \u71b5 \uff1a \u8868\u793a\u5355\u4e2a\u968f\u673a\u53d8\u91cf\u7684\u4e0d\u786e\u5b9a\u6027,\u5355\u4f4d \u6bd4\u7279\n",
      "$ H(P) = H(X) = -\\sum\\limits_{x\\in\\chi}{p(x)\\log_2{p(x)}} = E(\\log\\frac{1}{p(x)}) $\n",
      "\n",
      "### \u8054\u5408\u71b5\n",
      "$ H(X,Y) = -\\sum\\limits_{x\\in\\chi}\\sum\\limits_{y\\in\\gamma}p(x,y)\\log{p(x,y)} $\n",
      "\n",
      "### \u6761\u4ef6\u71b5\n",
      "$ H(Y|X) = \\sum\\limits_{x\\in\\chi}{p(x)H(Y|X=x)} $\n",
      "\n",
      "### \u71b5\u8fde\u9501\n",
      "$ H(X,Y) = H(X) + H(Y|X) $\n",
      "\n",
      "### \u4e92\u4fe1\u606f\n",
      "$ I(X;Y) = H(X) - H(X|Y) = \\sum\\limits_{x,y}{p(x,y)\\log\\frac{p(x,y)}{p(x)p(y)}}$\n",
      "\n",
      "### \u76f8\u5bf9\u71b5 - KL\u8ddd\u79bb\n",
      "$ D(p||q) = \\sum\\limits_{x\\in\\chi}{p(x)\\log\\frac{p(x)}{q(x)}} $"
     ]
    },
    {
     "cell_type": "markdown",
     "id": "B38198B1230542A690219A3205E44437",
     "metadata": {},
     "source": []
    }
   ],
   "metadata": {}
  }
 ]
}