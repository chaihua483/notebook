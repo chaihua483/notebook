{
 "cells": [
  {
   "cell_type": "code",
   "execution_count": 1,
   "metadata": {
    "collapsed": true
   },
   "outputs": [],
   "source": [
    "# 链表\n",
    "class Node(object):\n",
    "        def __init__(self, value, nextNode):\n",
    "            self.value=value\n",
    "            self.next = nextNode\n",
    "        def __repr__(self):\n",
    "            return \"{%s}\" % self.value\n",
    "            \n",
    "class LinkedList(object):\n",
    "    \n",
    "    def __init__(self):\n",
    "        self.head = Node(None, None)\n",
    "    def createFromList(self, l):\n",
    "        p = self.head\n",
    "        for a in l:\n",
    "            p.next = Node(a, None)\n",
    "            p = p.next\n",
    "    def __repr__(self):\n",
    "        s = \"\"\n",
    "        p = self.head\n",
    "        while p is not None:\n",
    "            s += \"%s -> \" % p\n",
    "            p = p.next\n",
    "        return s"
   ]
  },
  {
   "cell_type": "code",
   "execution_count": 3,
   "metadata": {
    "collapsed": false
   },
   "outputs": [
    {
     "name": "stdout",
     "output_type": "stream",
     "text": [
      "{None} -> {4} -> {6} -> {8} -> \n"
     ]
    }
   ],
   "source": [
    "linkedlist = LinkedList()\n",
    "linkedlist.createFromList([4,6,8])\n",
    "print(linkedlist)"
   ]
  },
  {
   "cell_type": "code",
   "execution_count": null,
   "metadata": {
    "collapsed": true
   },
   "outputs": [],
   "source": []
  }
 ],
 "metadata": {
  "kernelspec": {
   "display_name": "Python 3",
   "language": "python",
   "name": "python3"
  },
  "language_info": {
   "codemirror_mode": {
    "name": "ipython",
    "version": 3
   },
   "file_extension": ".py",
   "mimetype": "text/x-python",
   "name": "python",
   "nbconvert_exporter": "python",
   "pygments_lexer": "ipython3",
   "version": "3.5.1"
  }
 },
 "nbformat": 4,
 "nbformat_minor": 0
}
