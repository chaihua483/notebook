{
 "cells": [
  {
   "cell_type": "code",
   "execution_count": 4,
   "metadata": {
    "collapsed": false
   },
   "outputs": [],
   "source": [
    "# 线性表\n",
    "class mList(object):\n",
    "    def __init__(self, *l):\n",
    "        self.values = list(l)\n",
    "        \n",
    "    def __repr__(self):\n",
    "        return \"%s\" % self.values\n",
    "    \n",
    "    def insert(self, *l):\n",
    "        for value in l:\n",
    "            self.values.append(value)\n",
    "            \n",
    "    def isempty(self):\n",
    "        return self.values == []\n",
    "    \n",
    "    def find(self, obj):\n",
    "        # 要使用必须重载object的__eq__函数\n",
    "        # 返回第一个下标\n",
    "        for i,v in enumerate(self.values):\n",
    "            if v == obj:\n",
    "                return i\n",
    "    \n",
    "    def findall(self, obj):\n",
    "        # 要使用必须重载object的__eq__函数\n",
    "        # 返回全部下标\n",
    "        for i,v in enumerate(self.values):\n",
    "            if v == obj:\n",
    "                yield i\n",
    "    "
   ]
  },
  {
   "cell_type": "code",
   "execution_count": null,
   "metadata": {
    "collapsed": true
   },
   "outputs": [],
   "source": [
    "from lib import mObject"
   ]
  }
 ],
 "metadata": {
  "kernelspec": {
   "display_name": "Python 3",
   "language": "python",
   "name": "python3"
  },
  "language_info": {
   "codemirror_mode": {
    "name": "ipython",
    "version": 3
   },
   "file_extension": ".py",
   "mimetype": "text/x-python",
   "name": "python",
   "nbconvert_exporter": "python",
   "pygments_lexer": "ipython3",
   "version": "3.5.1"
  }
 },
 "nbformat": 4,
 "nbformat_minor": 0
}
