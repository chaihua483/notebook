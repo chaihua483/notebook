{
 "cells": [
  {
   "cell_type": "markdown",
   "metadata": {},
   "source": [
    "# 目录"
   ]
  },
  {
   "cell_type": "markdown",
   "metadata": {},
   "source": [
    "- ### NLP\n",
    "    0. [TFIDF简介](NLP/TFIDF模型原理及简单实现.ipynb)\n",
    "    0. [统计自然语言处理基础-笔记](NLP/统计自然语言处理基础-笔记.ipynb)\n",
    "- ### data mining\n",
    "    0. [深入浅出数据分析](data_mining/深入浅出数据分析.ipynb)\n",
    "- ### recommend system\n",
    "    0. [推荐系统](recommend_system/推荐系统.ipynb)\n",
    "- ### math\n",
    "    0. [图论](math/图论.ipynb)\n",
    "    0. [概率论基础](math/概率论基础.ipynb)\n",
    "- ### quantitative investment"
   ]
  }
 ],
 "metadata": {
  "kernelspec": {
   "display_name": "Python 2",
   "language": "python",
   "name": "python2"
  },
  "language_info": {
   "codemirror_mode": {
    "name": "ipython",
    "version": 2
   },
   "file_extension": ".py",
   "mimetype": "text/x-python",
   "name": "python",
   "nbconvert_exporter": "python",
   "pygments_lexer": "ipython2",
   "version": "2.7.9"
  }
 },
 "nbformat": 4,
 "nbformat_minor": 0
}
