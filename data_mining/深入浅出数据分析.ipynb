{
 "metadata": {
  "signature": "sha256:02dd9a82bf796fb5fa480373180f3a3c97c8b2ef3f3ce17553a91b8d55c9ebef"
 },
 "nbformat": 3,
 "nbformat_minor": 0,
 "worksheets": [
  {
   "cells": [
    {
     "cell_type": "markdown",
     "id": "B499D701096D48FAA07971E91CB64E1A",
     "metadata": {},
     "source": [
      "## \u5f00\u59cb\u8bfb\u300a\u6df1\u5165\u6d45\u51fa\u6570\u636e\u5206\u6790\u300b\n",
      "\n",
      "> \u4efb\u4f55\u4e00\u4e2a\u6570\u636e\u5206\u6790\u5e08\u7ecf\u5386\u5982\u4e0b\u90e8\u5206\n",
      "\n",
      "<img src=\"http://e.hiphotos.baidu.com/image/pic/item/dcc451da81cb39db82e4cd1bd7160924ab183052.jpg\" width=\"600\"></img>\n",
      "\n",
      "### \u786e\u5b9a\u9636\u6bb5\n",
      "> \u5bfb\u6c42\u76ee\u6807\n",
      "\n",
      "### \u5206\u89e3\u9636\u6bb5\n",
      "> \u6211\u4eec\u5982\u4f55\u63d0\u9ad8\u9500\u91cf\uff1f\n",
      "> - \u5ba2\u6237\u7684\u671f\u671b\n",
      "> - \u6700\u53ef\u80fd\u7684\u6548\u679c\n",
      "> - \u5e7f\u544a\u5982\u4f55\u4e86\n",
      "\n",
      "### \u8bc4\u4f30\u9636\u6bb5\n",
      "\n",
      "### \u51b3\u7b56\u9636\u6bb5\n",
      "\n",
      "## \u5982\u4f55\u64b0\u5199\u5206\u6790\u62a5\u544a\n",
      "- \u80cc\u666f\n",
      "\t- \u5ba2\u6237\u6d88\u8d39\u80fd\u529b\n",
      "\t- \u7ade\u54c1\u5371\u9669\u5ea6\n",
      "\t- \u66fe\u7ecf\u7684\u5c1d\u8bd5\n",
      "- \u6570\u636e\u89e3\u8bf4\n",
      "\t- \u6570\u636e\u7ed9\u51fa\u7684\u57fa\u672c\u7ed3\u8bba\n",
      "\t- \u7b80\u5355\u5206\u6790\u54ea\u4e9b\u6761\u4ef6\u6709\u7528\u54ea\u4e9b\u65e0\u7528\n",
      "- \u5efa\u8bae\n",
      "\t- \u5f97\u51fa\u4e00\u4e9b\u7ed3\u8bba\n",
      "\t- \u7ed9\u51fa\u5177\u4f53\u505a\u6cd5\n",
      "\n",
      "## \u603b\u7ed3\n",
      "> \u9700\u8981\u6570\u636e\u5206\u6790\u7684\u6839\u672c\u539f\u56e0\uff1a\n",
      "1. \u4ece\u6570\u636e\u4e2d\u53d1\u73b0\u5b58\u5728\u7684\u95ee\u9898\n",
      "2. \u5206\u6790\u95ee\u9898\u7684\u7531\u6765\n",
      "3. \u6269\u5927\u601d\u7ef4\u8303\u7574\uff0c\u7a7f\u8d8a\u601d\u7ef4\u5b9a\u52bf\uff0c\u5bfb\u627e\u7f3a\u5931\u7684\u6570\u636e\u6765\u6e90\n",
      "4. \u60f3\u529e\u6cd5\u4ece\u7f3a\u5931\u6570\u636e\u4e2d\u5f97\u5230\u5f25\u8865\u4fe1\u606f\n",
      "5. \u53d1\u73b0\u65b0\u5927\u9646"
     ]
    },
    {
     "cell_type": "code",
     "collapsed": false,
     "id": "FA5EF681A7404394B64FAE7C973FE411",
     "input": [],
     "language": "python",
     "metadata": {},
     "outputs": []
    }
   ],
   "metadata": {}
  }
 ]
}