{
 "cells": [
  {
   "cell_type": "markdown",
   "metadata": {},
   "source": [
    "# 1. python对象\n",
    "\n",
    "python中的对象由标准头+引用计数器+类型指针构成\n",
    "\n",
    "```c++\n",
    "typedef struct _object {\n",
    "    _PyObject_HEAD_EXTRA\n",
    "    Py_ssize_t ob_refcnt;\n",
    "    struct _typeobject *ob_type;\n",
    "} PyObject;\n",
    "\n",
    "typedef struct {\n",
    "    PyObject ob_base;\n",
    "    Py_ssize_t ob_size; /* Number of items in variable part */\n",
    "} PyVarObject;\n",
    "```"
   ]
  },
  {
   "cell_type": "markdown",
   "metadata": {},
   "source": [
    "## 1.1 python 类型\n",
    "本质上类型也是一个对象"
   ]
  },
  {
   "cell_type": "code",
   "execution_count": 17,
   "metadata": {
    "collapsed": false
   },
   "outputs": [
    {
     "name": "stdout",
     "output_type": "stream",
     "text": [
      "对象的类型: <class 'str'>\n",
      "类型的class: <class 'type'>\n",
      "基本类型: <class 'object'>\n"
     ]
    }
   ],
   "source": [
    "obj = \"123\"\n",
    "obj_type = type(obj)\n",
    "print(\"对象的类型:\",obj_type)\n",
    "print(\"类型的class:\",type(obj_type))\n",
    "print(\"基本类型:\",int.__base__)"
   ]
  },
  {
   "cell_type": "markdown",
   "metadata": {},
   "source": [
    "- python中的所有类型"
   ]
  },
  {
   "cell_type": "code",
   "execution_count": 18,
   "metadata": {
    "collapsed": false
   },
   "outputs": [
    {
     "name": "stdout",
     "output_type": "stream",
     "text": [
      "dict_keys(['FileExistsError', '__loader__', 'vars', 'NotImplementedError', 'issubclass', 'zip', 'NotImplemented', 'OverflowError', 'Warning', 'TabError', 'NotADirectoryError', 'getattr', '__package__', 'UnicodeEncodeError', 'bytearray', 'ReferenceError', '__import__', 'bytes', 'UnboundLocalError', 'UnicodeWarning', '__IPYTHON__active', 'repr', 'next', 'str', 'int', 'SystemError', '__IPYTHON__', 'bool', 'hex', 'KeyError', 'KeyboardInterrupt', 'min', '__spec__', 'dict', 'print', 'ascii', 'isinstance', 'hasattr', 'ord', 'WindowsError', 'locals', 'ConnectionError', 'ArithmeticError', 'compile', 'pow', '__name__', 'list', 'Exception', 'ConnectionResetError', 'get_ipython', 'divmod', 'TimeoutError', 'True', 'help', 'abs', 'RecursionError', 'type', 'FileNotFoundError', 'max', 'DeprecationWarning', 'property', 'EOFError', 'IsADirectoryError', 'bin', 'UnicodeTranslateError', 'Ellipsis', 'IOError', 'IndexError', 'FutureWarning', 'setattr', 'SystemExit', 'reversed', 'StopIteration', '__build_class__', 'object', 'callable', 'ChildProcessError', 'range', 'hash', 'ValueError', 'eval', 'complex', 'ConnectionRefusedError', 'super', 'PermissionError', 'sum', 'BaseException', 'dreload', '__debug__', 'credits', 'RuntimeError', 'globals', 'frozenset', 'input', 'len', 'round', 'memoryview', 'classmethod', 'MemoryError', 'BufferError', 'all', 'oct', 'GeneratorExit', 'ImportError', 'StopAsyncIteration', 'TypeError', 'enumerate', 'BlockingIOError', 'any', 'float', 'ProcessLookupError', 'AssertionError', 'id', 'False', 'UnicodeError', 'BrokenPipeError', 'UserWarning', 'BytesWarning', 'InterruptedError', 'delattr', 'iter', 'EnvironmentError', 'chr', 'sorted', 'copyright', 'set', 'UnicodeDecodeError', '__doc__', 'SyntaxWarning', 'AttributeError', 'RuntimeWarning', 'license', 'None', 'IndentationError', 'map', 'NameError', 'open', 'FloatingPointError', 'SyntaxError', 'ConnectionAbortedError', 'exec', 'format', 'filter', 'PendingDeprecationWarning', 'tuple', 'ResourceWarning', 'staticmethod', 'ImportWarning', 'LookupError', 'slice', 'dir', 'OSError', 'ZeroDivisionError'])\n",
      "int的类型: <class 'int'>\n"
     ]
    }
   ],
   "source": [
    "print (__builtins__.__dict__.keys())\n",
    "print (\"int的类型:\", __builtins__.__dict__[\"int\"])"
   ]
  },
  {
   "cell_type": "code",
   "execution_count": null,
   "metadata": {
    "collapsed": true
   },
   "outputs": [],
   "source": []
  }
 ],
 "metadata": {
  "kernelspec": {
   "display_name": "Python 3",
   "language": "python",
   "name": "python3"
  },
  "language_info": {
   "codemirror_mode": {
    "name": "ipython",
    "version": 3
   },
   "file_extension": ".py",
   "mimetype": "text/x-python",
   "name": "python",
   "nbconvert_exporter": "python",
   "pygments_lexer": "ipython3",
   "version": "3.5.1"
  }
 },
 "nbformat": 4,
 "nbformat_minor": 0
}
