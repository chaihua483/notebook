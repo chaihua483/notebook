{
 "cells": [
  {
   "cell_type": "markdown",
   "metadata": {
    "collapsed": false
   },
   "source": [
    "# Word2vec from zero"
   ]
  },
  {
   "cell_type": "code",
   "execution_count": 4,
   "metadata": {
    "collapsed": false
   },
   "outputs": [
    {
     "name": "stderr",
     "output_type": "stream",
     "text": [
      "Building prefix dict from D:\\Python279\\lib\\site-packages\\jieba\\dict.txt ...\n",
      "DEBUG:jieba:Building prefix dict from D:\\Python279\\lib\\site-packages\\jieba\\dict.txt ...\n",
      "Loading model from cache c:\\users\\chaihu~1\\appdata\\local\\temp\\jieba.cache\n",
      "DEBUG:jieba:Loading model from cache c:\\users\\chaihu~1\\appdata\\local\\temp\\jieba.cache\n",
      "Loading model cost 1.58299994469 seconds.\n",
      "DEBUG:jieba:Loading model cost 1.58299994469 seconds.\n",
      "Prefix dict has been built succesfully.\n",
      "DEBUG:jieba:Prefix dict has been built succesfully.\n"
     ]
    }
   ],
   "source": [
    "# 数据集\n",
    "docs_origin = [\n",
    "    u\"公告显示，国家外汇管理局旗下全资子公司梧桐树投资平台现身工行、中行前十大股东榜单，持股比例分别为0.4%、0.36%。此前，该公司现身交行、浦发前十大股东。据测算，如果以上述上市银行股票四季度均价来算，梧桐树投资平台已经花费近280亿元。\",\n",
    "    u\"美国著名指数编制明晟（MSCI）称，重启有关16个市场分类建议的咨询，将在6月份公布决定；是否纳入中国A股将取决于投资者是否愿意提供正面反馈、所有权的解决、是否防止大范围停牌、是否取消反竞争性措施。\",\n",
    "    u\"国务院总理李克强3月30日主持召开国务院常务会议，决定新设一批国家自主创新示范区，部署推进上海加快建设科技创新中心；通过《成渝城市群发展规划》，引领西部新型城镇化和农业现代化；原则通过《中华人民共和国国防交通法（草案）》。\",\n",
    "    u\"奇虎3603月30日召开特别股东大会，对公司此前达成的私有化协议进行最终投票表决。此次表决获得正式通过。这意味着360正式进入退市，最快在1-2周内就能完成退市。\",\n",
    "    u\"大连万达集团考虑将万达商业私有化，万达集团正初步考虑就H股进行一项自愿全面收购要约。\",\n",
    "    u\"受益于美联储主席耶伦的鸽派立场以及油价上涨，美国三大股指录得连续三个交易日上扬。道琼斯工业平均指数涨0.47%，报17716.66点；标普500指数涨0.44%，报2064.01点，盘中再创年内新高；纳斯达克指数涨0.47%，报4869.29点\",\n",
    "    u\"中国银行在中国二季度经济金融展望报告中称，预计中国一季度GDP同比增长约6.6%，二季度增长约6.7%。预计全年GDP实现6.5%-7%的政府预期目标问题不大。\",\n",
    "    u\"0日，国家主席习近平同捷克总统泽曼在布拉格共同出席中捷经贸合作圆桌会。习近平发表题为《传承友谊，继往开来，开启中捷经贸合作新时代》的重要讲话，强调中捷两国经贸合作有很多利益契合点，双方要增进协调配合，加强优势对接，创新合作模式，发挥比较优势，推动中捷经贸合作发展。\",\n",
    "    u\"国务院总理李克强3月30日主持召开国务院常务会议，决定新设一批国家自主创新示范区，部署推进上海加快建设科技创新中心；通过《成渝城市群发展规划》，引领西部新型城镇化和农业现代化；原则通过《中华人民共和国国防交通法(草案)》。\",\n",
    "    u\"中国人民银行30日公布消息称，日前已联合银监会发文，从积极培育发展消费金融组织体系、加快推进消费信贷管理模式和产品创新等方面提出了一系列政策措施，以促进消费金融发展，满足新消费重点领域的金融需求。\",\n",
    "    u\"3月30日从发改委获悉，为深入推进东北地区民营经济发展改革，健全和完善促进民营经济健康发展的体制机制，优化民营经济发展环境，将民营企业培育成为增强经济活力、推动振兴发展的重要力量，发改委、工信部、全国工商联、国家开发银行联合制定关于推进东北地区民营经济发展改革的指导意见。\",\n",
    "    u\"全国各地债务违约升级，大型企业坏账爆发，对此，银监会近期将出台《企业金融债务重组办法》，以促进企业与金融机构之间的沟通，防范和化解金融风险，为以后债务重组做准备。\",\n",
    "    u\"2016年中央本级支出预算数27355亿元，比2015年执行数增加1800.34亿元，增长7%。如加上使用以前年度结转资金659亿元，预算数为28014亿元。\",\n",
    "    u\"地方政府债务由一般债务和专项债务两部分组成。根据上述地方政府一般债务和专项债务情况表，2014年末地方政府一般债务余额实际数为94272.4亿元，2015年末地方政府一般债务余额预计执行数为99272.4亿元，2016年末地方政府一般债务余额限额为107072.4亿元。\",\n",
    "    u\"3月30日晚间，证监会公告称无锡宏盛换热器制造股份有限公司、上海来伊份股份有限公司首发获通过。\",\n",
    "    u\"财政部今日发布《关于2016年中央一般公共预算收入预算的说明》，其中提到：2016年，证券交易印花税预算数为1650亿元，比2015年执行数减少826.15亿元，下降33.4%。主要根据股票市场交易额预计情况以及证券交易印花税全额纳入中央收入因素测算。\",\n",
    "    u\"奇虎360今日在位于北京朝阳区酒仙桥路6号的公司总部2号楼3层召开特别股东大会，对公司此前达成的私有化协议进行最终投票表决。此次表决获得正式通过。\",\n",
    "    u\"热点板块纷纷崛起、市场做多人气重新点燃，外汇局入驻A股的消息确实功不可没。我们广州万隆认为，监管层暂停注册制、战略新兴板尚须研究，辟谣退市黑名单，管理层呵护股市的举措可谓接连不断。另外，外围市场方面，美联储四月中旬加息预期可能落空，这将稳定了全球资本市场；同时季末流动性溢出现象也将近尾声。在内忧外患问题短时间皆解决下，今日大盘的缩量长阳将能激活市场更大做多热情，这意味着明日的3月收官战主力对板块个股的动作或更大。\",\n",
    "    u\"总体来看，周三普涨是利多因素的影响，而从市场位置与量能指标来看，如果量能指标不反生大的变化，其短期向上的空间也较为有限；除非市场出现放量上攻破近期高3028，则可能依然保持反弹格局；相反，市场则可能依然围绕3000点或60天线短期震荡后回落的概率为大。预计明日市场在今日普涨后，品种将体现分化。操作上稳健投资者继续战略观望；短线投资者控制好仓位进出并密切观察市场量能变化及近期高点位置的争夺。\",\n",
    "    u\"从科技部获悉，随着量子精密测量技术的快速发展，基于量子精密测量的陀螺及惯性导航系统具有高精度、小体积、低成本等优势，将对无缝定位导航领域提供颠覆性新技术。\"\n",
    "]\n",
    "# 预处理\n",
    "# 分词\n",
    "import jieba\n",
    "docs_cut = [list(jieba.cut(doc)) for doc in docs_origin]\n",
    "\n",
    "# 构建词典\n",
    "class Word:\n",
    "    def __init__(self, value=\"\", id=0, freq=1, left=-1, right=-1, code=[]):\n",
    "        self.id=id\n",
    "        self.value=value\n",
    "        self.freq=freq\n",
    "        self.code=code\n",
    "        self.left=left\n",
    "        self.right=right\n",
    "        self.points = []\n",
    "        \n",
    "    def __repr__(self):\n",
    "        return \"(%s, '%s', %s, %s, %s)\" % (self.id, self.value.encode(\"utf-8\"), self.freq, self.code, self.points)\n",
    "    \n",
    "    def __lt__(self, other):  # used for sorting in a priority queue\n",
    "        return self.freq < other.freq\n",
    "        \n",
    "vocab = {}\n",
    "index2word = []\n",
    "\n",
    "for doc in docs_cut:\n",
    "    for word in doc:\n",
    "        if word not in vocab:\n",
    "            vocab[word] = Word(word)\n",
    "        else:\n",
    "            vocab[word].freq += 1\n",
    "            \n",
    "index2word = sorted(vocab.itervalues(), key=lambda k:k.freq, reverse=True)\n",
    "for cur,word in enumerate(index2word):\n",
    "    index2word[cur].id = cur\n",
    "            \n",
    "# update_doc\n",
    "docs = [[vocab[word].id for word in doc] for doc in docs_cut]\n",
    "            \n",
    "# 初始化词向量\n",
    "import numpy as np\n",
    "dim = 10\n",
    "vocab_len = len(index2word)\n",
    "vecs = np.random.random((vocab_len, dim))-0.5\n",
    "# Huffman tree中的非叶节点\n",
    "theta_vecs = np.random.random((vocab_len-1, dim))-0.5\n",
    "\n",
    "def sigmoid(inX):  \n",
    "    return 1.0 / (1 + np.exp(-inX)) \n"
   ]
  },
  {
   "cell_type": "code",
   "execution_count": 6,
   "metadata": {
    "collapsed": false
   },
   "outputs": [],
   "source": [
    "# train Cbow with Hierarchical softmax\n",
    "# construct huffman tree\n",
    "# 利用 最小堆\n",
    "import copy\n",
    "import heapq\n",
    "heap = [w for w in index2word]\n",
    "heapq.heapify(heap)\n",
    "# print heap\n",
    "for i in range(vocab_len-1): # 需要 n-1词合并操作\n",
    "    min1, min2 = heapq.heappop(heap), heapq.heappop(heap)\n",
    "    heapq.heappush(heap, Word(id=vocab_len+i, freq=min1.freq+min2.freq, left=min1, right=min2))\n",
    "\n",
    "# 从huffman tree 中获取编码\n",
    "def get_children(node, code, points):\n",
    "    if node.id < vocab_len: # 叶节点\n",
    "        node.code = code\n",
    "        node.points = points\n",
    "    else:\n",
    "        get_children(node.left, code+[0], points+[node.id])\n",
    "        get_children(node.right, code+[1], points+[node.id])\n",
    "get_children(heap.pop(), [], [])\n",
    "\n",
    "# to make it simple\n",
    "window = 2\n",
    "learning_rate = 0.025\n",
    "for doc in docs*100:\n",
    "    for cur, wordid in enumerate(doc):\n",
    "        start = max(cur-window, 0)\n",
    "        end = min(cur+window, len(doc))\n",
    "        \n",
    "        # 当前词汇\n",
    "        curr_word = index2word[wordid]\n",
    "        # print curr_word\n",
    "        \n",
    "        # 计算上下文向量和\n",
    "        context = doc[start:cur]+doc[cur+1:end+1]\n",
    "        # print context\n",
    "        context_mean = vecs[context, :].mean(axis=0)\n",
    "        # print context_mean\n",
    "        \n",
    "        # 更新 参数 \\theta, x\n",
    "        sum_e = 0\n",
    "        for j, index in enumerate(curr_word.points):\n",
    "            # 计算 \\eta * [1-d_j^w-\\sigma(x^T * \\theta)]\n",
    "            g = learning_rate * (1.0 - curr_word.code[j] - sigmoid(np.dot(context_mean, theta_vecs[index-vocab_len])))\n",
    "            sum_e += g*theta_vecs[index-vocab_len]\n",
    "            # 更新 theta\n",
    "            theta_vecs[index-vocab_len] += g*context_mean\n",
    "        # 更新 Context\n",
    "        for i in context:\n",
    "            vecs[i] += sum_e\n",
    "        "
   ]
  },
  {
   "cell_type": "markdown",
   "metadata": {},
   "source": [
    "### 核心是构造 $ p(\\omega|Context(\\omega)) $\n",
    "\n",
    "$ p(\\omega|Context(\\omega)) = \\prod p(d_j^w|x_w, \\theta_{j-1}^w) $\n",
    "\n",
    "$ L = \\sum\\limits_{w\\in C} \\{(1-d)_j^w \\dot log[\\sigma(x_w^T\\theta_{j-1}^w)] + d_j^w \\dot log[1-\\sigma(x_w^T\\theta_{j-1}^w)] \\} $\n",
    "\n",
    "对 x 和 theta 求偏导:\n",
    "\n",
    "$ \\frac{\\partial L(w,j)}{\\partial \\theta_{j-1}^w} = [1-d_j^w-\\sigma(x_w^T \\theta_{j-1}^w)] x_w $\n",
    "\n",
    "$ \\frac{\\partial L(w,j)}{\\partial x_w} = [1-d_j^w-\\sigma(x_w^T \\theta_{j-1}^w)] \\theta_{j-1}^w $\n",
    "\n",
    "更新公式为:\n",
    "\n",
    "$ \\theta_{j-1}^w := \\theta_{j-1}^w + \\eta \\sum\\limits_{j=2}^{l^w} \\frac{\\partial L(w, j)}{\\partial \\theta_{j-1}^w} $\n",
    "\n",
    "$ v(w) := v(w) + \\eta \\sum\\limits_{j=2}^{l^w} \\frac{\\partial L(w, j)}{\\partial x_w} $"
   ]
  },
  {
   "cell_type": "code",
   "execution_count": 24,
   "metadata": {
    "collapsed": false
   },
   "outputs": [
    {
     "name": "stdout",
     "output_type": "stream",
     "text": [
      "路:1.81528364287\n",
      "建议:1.763215037\n",
      "长阳:1.74650494772\n",
      "个股:1.74125694713\n",
      "股指:1.71691424456\n",
      "或:1.70087459386\n",
      "完善:1.68808853198\n",
      "2:1.68288678929\n",
      "再创:1.66900846584\n",
      "活力:1.66337801016\n"
     ]
    }
   ],
   "source": [
    "# 测试结果\n",
    "import scipy.spatial\n",
    "\n",
    "def get_most_similar(w, num=10):\n",
    "    w_index = vocab[w].id\n",
    "    dist = np.zeros(vocab_len)\n",
    "    for i,v in enumerate(vecs):\n",
    "        d = scipy.spatial.distance.cosine(vecs[w_index], v)\n",
    "        dist[i] = d\n",
    "    dist_o = np.argsort(dist)[::-1]\n",
    "    return [(index2word[i].value, dist[i]) for i in dist_o[:num]]\n",
    "    \n",
    "# print \"\\n\".join([\"%s:%s\" % (w, d) for w,d in get_most_similar(u\"中国\")])\n",
    "\n",
    "def cal_posibility(w, num=10):\n",
    "    # 给出上下文，预测最大可能的值\n",
    "    pass"
   ]
  },
  {
   "cell_type": "code",
   "execution_count": 23,
   "metadata": {
    "collapsed": false,
    "scrolled": true
   },
   "outputs": [
    {
     "name": "stderr",
     "output_type": "stream",
     "text": [
      "WARNING:gensim.models.word2vec:consider setting layer size to a multiple of 4 for greater performance\n"
     ]
    },
    {
     "name": "stdout",
     "output_type": "stream",
     "text": [
      "出现:0.841454327106\n",
      "人气:0.80583769083\n",
      "概率:0.780901610851\n",
      "根据上述:0.756360411644\n",
      "上涨:0.715811491013\n",
      "成渝:0.715311288834\n",
      "办法:0.701730251312\n",
      "0.4:0.692123353481\n",
      "中央:0.673604846001\n",
      "优化:0.661763131618\n"
     ]
    }
   ],
   "source": [
    "# 用 gensim 验证一下\n",
    "from gensim.models.word2vec import Word2Vec\n",
    "\n",
    "model = Word2Vec(size=10, alpha=0.0025, window=2, min_count=1, sg=0)\n",
    "model.build_vocab(docs_cut)\n",
    "# print model.syn0\n",
    "model.train(docs_cut)\n",
    "\n",
    "print \"\\n\".join([\"%s:%s\" % (w, d) for w,d in model.most_similar(u\"中国\")])"
   ]
  },
  {
   "cell_type": "code",
   "execution_count": null,
   "metadata": {
    "collapsed": false
   },
   "outputs": [],
   "source": [
    "import heapq\n",
    "l = [7,1,2,3,4,5]\n",
    "heapq.heapify(l)\n",
    "l"
   ]
  },
  {
   "cell_type": "code",
   "execution_count": 20,
   "metadata": {
    "collapsed": false
   },
   "outputs": [
    {
     "data": {
      "text/plain": [
       "[(0, '，', 78, [1, 1, 0, 0], [1166, 1165, 1163, 1158]),\n",
       " (1, '。', 35, [1, 0, 1, 1, 0], [1166, 1165, 1162, 1157, 1148]),\n",
       " (2, '的', 26, [1, 1, 1, 1, 1, 0], [1166, 1165, 1163, 1159, 1151, 1136]),\n",
       " (3, '、', 16, [0, 0, 0, 0, 0, 1], [1166, 1164, 1160, 1152, 1137, 1108]),\n",
       " (4, '发展', 11, [1, 1, 0, 1, 1, 0, 0], [1166, 1165, 1163, 1158, 1149, 1132, 1099]),\n",
       " (5, '债务', 11, [1, 1, 0, 1, 1, 1, 1], [1166, 1165, 1163, 1158, 1149, 1132, 1100]),\n",
       " (6, '；', 11, [1, 1, 0, 1, 1, 0, 1], [1166, 1165, 1163, 1158, 1149, 1132, 1099]),\n",
       " (7, '%', 11, [1, 1, 0, 1, 1, 1, 0], [1166, 1165, 1163, 1158, 1149, 1132, 1100]),\n",
       " (8, '市场', 10, [1, 1, 0, 1, 0, 0, 1], [1166, 1165, 1163, 1158, 1149, 1131, 1096]),\n",
       " (9, '亿元', 10, [1, 0, 1, 1, 1, 1, 0], [1166, 1165, 1162, 1157, 1148, 1130, 1098])]"
      ]
     },
     "execution_count": 20,
     "metadata": {},
     "output_type": "execute_result"
    }
   ],
   "source": [
    "index2word[:10]"
   ]
  },
  {
   "cell_type": "code",
   "execution_count": null,
   "metadata": {
    "collapsed": true
   },
   "outputs": [],
   "source": []
  }
 ],
 "metadata": {
  "kernelspec": {
   "display_name": "Python 2",
   "language": "python",
   "name": "python2"
  },
  "language_info": {
   "codemirror_mode": {
    "name": "ipython",
    "version": 2
   },
   "file_extension": ".py",
   "mimetype": "text/x-python",
   "name": "python",
   "nbconvert_exporter": "python",
   "pygments_lexer": "ipython2",
   "version": "2.7.9"
  }
 },
 "nbformat": 4,
 "nbformat_minor": 0
}
