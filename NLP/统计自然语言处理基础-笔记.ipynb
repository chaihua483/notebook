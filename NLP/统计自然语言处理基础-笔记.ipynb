{
 "metadata": {
  "signature": "sha256:8c3a801e703e372b040d29119aae53f7f3ac2fc19033befca88af889860e75d7"
 },
 "nbformat": 3,
 "nbformat_minor": 0,
 "worksheets": [
  {
   "cells": [
    {
     "cell_type": "markdown",
     "id": "E9106BF614C549E2876B41AC22F6A7A6",
     "metadata": {},
     "source": [
      "> \u8fd1\u6765\u53d1\u73b0\u6700\u521d\u5b66\u7684\u57fa\u7840\u90fd\u5fd8\u5149\u4e86\uff0c\u51b3\u5b9a\u4ece\u6700\u57fa\u7840\u7684\u91cd\u65b0\u6765\u4e00\u904d\u5de9\u56fa\u4e00\u4e0b\uff0c\u4e0d\u662f\u795e\u9a6c\u6559\u7a0b\uff0c\u4ec5\u4f9b\u5a31\u4e50"
     ]
    },
    {
     "cell_type": "code",
     "collapsed": false,
     "id": "124AB8CDC64F46E58FA44AA3F80654C0",
     "input": [
      "# \u611f\u8c22 @taotao.li \u6307\u51fauqer\u4e2d\u80fd\u76f4\u63a5\u83b7\u53d6\u5230\u65b0\u95fb\uff0c\u90a3\u5c31\u7528\u4e00\u4e0b\u62ff\u70b9\u51fa\u6765\n",
      "news_ids = DataAPI.NewsInfoByTimeGet(newsPublishDate=u\"20160331\",beginTime=u\"\",endTime=u\"\",field=u\"newsID\",pandas=\"1\")\n",
      "print news_ids.shape\n",
      "\n",
      "# \u5b9a\u4e49generator\n",
      "def get_news(news_ids, total=None):\n",
      "    for id in (news_ids.loc[:total, \"newsID\"].tolist() if total else news_ids):\n",
      "        yield DataAPI.NewsBodyGet(newsID=str(id),field=u\"newsBody\",pandas=\"1\").loc[0,\"newsBody\"].decode(\"utf-8\")\n",
      "        \n",
      "# print get_news(news_ids, 10).next()"
     ],
     "language": "python",
     "metadata": {},
     "outputs": [
      {
       "output_type": "stream",
       "stream": "stdout",
       "text": [
        "(10812, 1)"
       ]
      },
      {
       "output_type": "stream",
       "stream": "stdout",
       "text": [
        "\n"
       ]
      }
     ]
    },
    {
     "cell_type": "markdown",
     "id": "B18350FE43A3470D84A8E4F0FBDF7D0B",
     "metadata": {},
     "source": [
      "> ### "
     ]
    },
    {
     "cell_type": "code",
     "collapsed": false,
     "id": "A885B642FAF24860824D78B9042E819D",
     "input": [],
     "language": "python",
     "metadata": {},
     "outputs": []
    }
   ],
   "metadata": {}
  }
 ]
}