{
 "cells": [
  {
   "cell_type": "code",
   "execution_count": null,
   "metadata": {
    "collapsed": true
   },
   "outputs": [],
   "source": []
  },
  {
   "cell_type": "code",
   "execution_count": 11,
   "metadata": {
    "collapsed": false
   },
   "outputs": [
    {
     "name": "stdout",
     "output_type": "stream",
     "text": [
      "5\n",
      "[1, 2, 3, 4, 6]\n",
      "1\n",
      "[1, 2, 3, 4, 6]\n"
     ]
    }
   ],
   "source": [
    "import copy\n",
    "class Stack(object):\n",
    "    def __init__(self, l):\n",
    "        self.l = l\n",
    "        \n",
    "    def pop(self):\n",
    "        return self.l.pop()\n",
    "    \n",
    "    def insert(self, v):\n",
    "        self.l.append(v)\n",
    "        \n",
    "    def min(self):\n",
    "        l = copy.copy(self.l)\n",
    "        m = l.pop()\n",
    "        while l:\n",
    "            temp = l.pop()\n",
    "            if temp < m :\n",
    "                m= temp\n",
    "        return m\n",
    "    \n",
    "s = Stack([1,2,3,4,5])\n",
    "print s.pop()\n",
    "s.insert(6)\n",
    "print s.l\n",
    "print s.min()\n",
    "print s.l"
   ]
  },
  {
   "cell_type": "code",
   "execution_count": 7,
   "metadata": {
    "collapsed": false
   },
   "outputs": [
    {
     "data": {
      "text/plain": [
       "[123]"
      ]
     },
     "execution_count": 7,
     "metadata": {},
     "output_type": "execute_result"
    }
   ],
   "source": []
  },
  {
   "cell_type": "code",
   "execution_count": null,
   "metadata": {
    "collapsed": true
   },
   "outputs": [],
   "source": []
  }
 ],
 "metadata": {
  "kernelspec": {
   "display_name": "Python 2",
   "language": "python",
   "name": "python2"
  },
  "language_info": {
   "codemirror_mode": {
    "name": "ipython",
    "version": 2
   },
   "file_extension": ".py",
   "mimetype": "text/x-python",
   "name": "python",
   "nbconvert_exporter": "python",
   "pygments_lexer": "ipython2",
   "version": "2.7.9"
  }
 },
 "nbformat": 4,
 "nbformat_minor": 0
}
